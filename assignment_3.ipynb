{
 "cells": [
  {
   "cell_type": "markdown",
   "id": "7a1d11d8",
   "metadata": {},
   "source": [
    "# program to scrap gaming laptops"
   ]
  },
  {
   "cell_type": "code",
   "execution_count": 43,
   "id": "00026693",
   "metadata": {},
   "outputs": [],
   "source": [
    "from selenium import webdriver\n",
    "from selenium.webdriver.common.by import By\n",
    "from selenium.common.exceptions import StaleElementReferenceException, NoSuchElementException\n",
    "import warnings\n",
    "warnings.filterwarnings('ignore')\n",
    "import pandas as pd\n",
    "import time\n",
    "import requests"
   ]
  },
  {
   "cell_type": "code",
   "execution_count": null,
   "id": "c9c1e344",
   "metadata": {},
   "outputs": [],
   "source": [
    "url = 'https://www.digit.in/top-products/best-gaming-laptops-40.html'\n",
    "driver = webdriver.Chrome()\n",
    "driver.get(url)"
   ]
  },
  {
   "cell_type": "code",
   "execution_count": null,
   "id": "2cb4efb9",
   "metadata": {},
   "outputs": [],
   "source": [
    "Gaming_Laptops = []\n",
    "laptops_tag = driver.find_elements(By.XPATH,'//div[@class=\"TopNumbeHeading\"]')\n",
    "for i in laptops_tag[0:10] :\n",
    "    laptops = i.text.lstrip('\\n')\n",
    "    Gaming_Laptops.append(laptops)"
   ]
  },
  {
   "cell_type": "code",
   "execution_count": null,
   "id": "1515f581",
   "metadata": {},
   "outputs": [],
   "source": [
    "df = pd.DataFrame({'Gaming_Laptops' : Gaming_Laptops})\n",
    "df"
   ]
  },
  {
   "cell_type": "markdown",
   "id": "0344d80e",
   "metadata": {},
   "source": [
    "# Program to scrap Latitude and Longitude\n"
   ]
  },
  {
   "cell_type": "code",
   "execution_count": null,
   "id": "b60cec37",
   "metadata": {},
   "outputs": [],
   "source": [
    "url = 'https://www.google.com/maps'\n",
    "driver = webdriver.Chrome()\n",
    "driver.get(url)"
   ]
  },
  {
   "cell_type": "code",
   "execution_count": null,
   "id": "9ab1bb89",
   "metadata": {},
   "outputs": [],
   "source": [
    "search_box = driver.find_element(By.ID,\"searchboxinput\")\n",
    "search_box.send_keys('New York City')\n",
    "search_box.send_keys(Keys.ENTER)"
   ]
  },
  {
   "cell_type": "code",
   "execution_count": null,
   "id": "3780f56c",
   "metadata": {},
   "outputs": [],
   "source": [
    "path = driver.current_url\n",
    "latitude = path.split(\"@\")[1].split(\",\")[0]\n",
    "longitude = path.split(\"@\")[1].split(\",\")[1]"
   ]
  },
  {
   "cell_type": "code",
   "execution_count": null,
   "id": "8c572d2a",
   "metadata": {},
   "outputs": [],
   "source": [
    "print('latitude',latitude)\n",
    "print('longitude',longitude)"
   ]
  },
  {
   "cell_type": "markdown",
   "id": "61a818a2",
   "metadata": {},
   "source": [
    "# program to scrape images\n"
   ]
  },
  {
   "cell_type": "code",
   "execution_count": null,
   "id": "4d9f883e",
   "metadata": {},
   "outputs": [],
   "source": [
    "url = 'https://www.google.co.in/imghp?hl=en-GB&tab=ri&ogbl'\n",
    "driver = webdriver.Chrome()\n",
    "driver.get(url)"
   ]
  },
  {
   "cell_type": "code",
   "execution_count": null,
   "id": "3de6864e",
   "metadata": {},
   "outputs": [],
   "source": [
    "search_box = driver.find_element(By.CLASS_NAME,\"gLFyf\")\n",
    "search_box.send_keys('cars')\n",
    "search_box.send_keys(Keys.ENTER)"
   ]
  },
  {
   "cell_type": "code",
   "execution_count": null,
   "id": "eb833f54",
   "metadata": {},
   "outputs": [],
   "source": [
    "for i in range(20):\n",
    "    driver.execute_script('window.scrollBy(0,100)')\n",
    "images = driver.find_elements(By.XPATH,'//img[@class=\"rg_i Q4LuWd\"]')\n",
    "\n",
    "img_urls = []\n",
    "img_data = []\n",
    "for image in images :\n",
    "    source = image.get_attribute('src')\n",
    "    if source is not None:\n",
    "        if(source[0:4]=='http'):\n",
    "            img_urls.append(source)\n",
    "\n",
    "for i in range(len(img_urls)):\n",
    "    if i >10:\n",
    "        breakBy.XPATH\n",
    "    print('downloading{0} of {1} images '.format(i,10))\n",
    "    response = requests.get(img_urls[i])\n",
    "    file = open(r'Desktop'+str(i)+'.jpg','wb')\n",
    "    file.write(response.content)"
   ]
  },
  {
   "cell_type": "markdown",
   "id": "9ce7d757",
   "metadata": {},
   "source": [
    "# program to scraape comments from youtube\n"
   ]
  },
  {
   "cell_type": "code",
   "execution_count": null,
   "id": "b2b740bc",
   "metadata": {},
   "outputs": [],
   "source": [
    "url = 'https://www.youtube.com/'\n",
    "driver = webdriver.Chrome()\n",
    "driver.get(url)"
   ]
  },
  {
   "cell_type": "code",
   "execution_count": null,
   "id": "668a47fb",
   "metadata": {},
   "outputs": [],
   "source": [
    "video = driver.find_element(By.CLASS_NAME,\"style-scope ytd-rich-grid-media\")\n",
    "video.click()"
   ]
  },
  {
   "cell_type": "code",
   "execution_count": null,
   "id": "21bc82e5",
   "metadata": {},
   "outputs": [],
   "source": [
    "for i in range(1000):\n",
    "    driver.execute_script('window.scrollBy(0,1000)')\n",
    "\n",
    "comments = []\n",
    "upvotes = []\n",
    "time.sleep(2)\n",
    "comment = driver.find_elements(By.XPATH,'//span[@class=\"style-scope yt-formatted-string\"]')\n",
    "for i in comment[0:500] :\n",
    "    comments.append(i.text)\n",
    "\n",
    "votes = driver.find_elements(By.XPATH,'//span[@id=\"vote-count-middle\"]')\n",
    "for i in votes[0:500] :\n",
    "    upvotes.append(i.text)"
   ]
  },
  {
   "cell_type": "code",
   "execution_count": null,
   "id": "cd3876bc",
   "metadata": {},
   "outputs": [],
   "source": [
    "data = {'Comments' : comments ,'Upvotes' : upvotes}\n",
    "df = pd.DataFrame(data)\n",
    "df"
   ]
  },
  {
   "cell_type": "markdown",
   "id": "19254234",
   "metadata": {},
   "source": [
    "# program to search a praticular product from amazon"
   ]
  },
  {
   "cell_type": "code",
   "execution_count": null,
   "id": "cec2c1af",
   "metadata": {},
   "outputs": [],
   "source": [
    "item = input('enter the product name : ')"
   ]
  },
  {
   "cell_type": "code",
   "execution_count": null,
   "id": "d769eb6c",
   "metadata": {},
   "outputs": [],
   "source": [
    "site = \"https://www.amazon.in/\"\n",
    "# conecting to the Chrome\n",
    "driver = webdriver.Chrome()\n",
    "driver.get(site)\n",
    "search = driver.find_element(By.ID,\"twotabsearchtextbox\")\n",
    "search.send_keys(item)\n",
    "button = driver.find_element(By.ID,\"nav-search-submit-button\")\n",
    "button.click()"
   ]
  },
  {
   "cell_type": "code",
   "execution_count": null,
   "id": "ec2523ff",
   "metadata": {},
   "outputs": [],
   "source": [
    "Brand = []\n",
    "Product = []\n",
    "Price = []\n",
    "Return_Exchange = []\n",
    "Delivery = []\n",
    "Availability = []\n",
    "urls = []"
   ]
  },
  {
   "cell_type": "code",
   "execution_count": null,
   "id": "a713e838",
   "metadata": {},
   "outputs": [],
   "source": [
    "product_urls = []\n",
    "for page in range(0,3):\n",
    "    url = driver.find_elements(By.XPATH,'//a[@class=\"a-link-normal s-underline-text s-underline-link-text s-link-style a-text-normal\"]')\n",
    "    for i in url:\n",
    "        product_urls.append(i.get_attribute('href'))\n",
    "    next_button = driver.find_element(By.XPATH,'//a[@class=\"s-pagination-item s-pagination-next s-pagination-button s-pagination-separator\"]')    \n",
    "    next_button.click()\n",
    "    time.sleep(2)"
   ]
  },
  {
   "cell_type": "code",
   "execution_count": null,
   "id": "e3a776e7",
   "metadata": {},
   "outputs": [],
   "source": [
    "for url in product_urls[1:10]:\n",
    "    driver.get(url)\n",
    "    time.sleep(2)\n",
    "    \n",
    "    try :\n",
    "        brand = driver.find_element(By.XPATH,'//span[@class=\"a-size-base po-break-word\"]')\n",
    "        Brand.append(brand.text)\n",
    "    except NoSouchElementException :\n",
    "        Brand.append('-')\n",
    "        "
   ]
  },
  {
   "cell_type": "code",
   "execution_count": null,
   "id": "b4be46d1",
   "metadata": {},
   "outputs": [],
   "source": [
    "for url in product_urls[1:10]:\n",
    "    driver.get(url)\n",
    "    time.sleep(2)\n",
    "    \n",
    "    try :\n",
    "        product = driver.find_element(By.XPATH,'//span[@class=\"a-size-medium product-title-word-break product-title-resize\"]')\n",
    "        Product.append(product.text)\n",
    "    except NoSouchElementException :\n",
    "        Product.append('-')"
   ]
  },
  {
   "cell_type": "code",
   "execution_count": null,
   "id": "a32ed848",
   "metadata": {},
   "outputs": [],
   "source": [
    "for url in product_urls[1:10]:\n",
    "    driver.get(url)\n",
    "    time.sleep(2)\n",
    "    \n",
    "    try :\n",
    "        price = driver.find_element(By.XPATH,'//span[@class=\"a-price-whole\"]')\n",
    "        Price.append(price.text)\n",
    "    except NoSouchElementException :\n",
    "        Price.append('-')"
   ]
  },
  {
   "cell_type": "code",
   "execution_count": null,
   "id": "6944beea",
   "metadata": {},
   "outputs": [],
   "source": [
    "for url in product_urls[1:10]:\n",
    "    driver.get(url)\n",
    "    time.sleep(2)\n",
    "    \n",
    "    try :\n",
    "        return_exchange = driver.find_element(By.XPATH,'//div[@id=\"RETURNS_POLICY\"]')\n",
    "        Return_Exchange.append(return_exchange.text)\n",
    "    except NoSouchElementException :\n",
    "        Return_Exchange.append('-')"
   ]
  }
 ],
 "metadata": {
  "kernelspec": {
   "display_name": "Python 3 (ipykernel)",
   "language": "python",
   "name": "python3"
  },
  "language_info": {
   "codemirror_mode": {
    "name": "ipython",
    "version": 3
   },
   "file_extension": ".py",
   "mimetype": "text/x-python",
   "name": "python",
   "nbconvert_exporter": "python",
   "pygments_lexer": "ipython3",
   "version": "3.9.13"
  }
 },
 "nbformat": 4,
 "nbformat_minor": 5
}
