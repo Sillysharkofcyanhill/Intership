{
 "cells": [
  {
   "cell_type": "code",
   "execution_count": null,
   "id": "45954ca1",
   "metadata": {},
   "outputs": [],
   "source": [
    "!pip install selenium"
   ]
  },
  {
   "cell_type": "code",
   "execution_count": 11,
   "id": "b27b6919",
   "metadata": {},
   "outputs": [],
   "source": [
    "from selenium import webdriver\n",
    "from selenium.webdriver.common.by import By\n",
    "from selenium.common.exceptions import StaleElementReferenceException, NoSuchElementException\n",
    "import warnings\n",
    "warnings.filterwarnings('ignore')\n",
    "import pandas as pd\n",
    "import time\n"
   ]
  },
  {
   "cell_type": "code",
   "execution_count": null,
   "id": "451ee686",
   "metadata": {},
   "outputs": [],
   "source": [
    "url = \"https://www.naukri.com/\"\n",
    "\n",
    "# conecting to the Chrome\n",
    "driver = webdriver.Chrome()\n",
    "driver.get(url)\n",
    "search = driver.find_element(By.CLASS_NAME,'suggestor-input')\n",
    "search.send_keys('Data Analyst')\n",
    "loc = driver.find_element(By.XPATH,'/html/body/div[1]/div[7]/div/div/div[5]/div/div/div/div[1]/div/input')\n",
    "loc.send_keys('Bangalore')\n",
    "button = driver.find_element(By.CLASS_NAME,'qsbSubmit')\n",
    "button.click()"
   ]
  },
  {
   "cell_type": "code",
   "execution_count": null,
   "id": "92dcc3be",
   "metadata": {},
   "outputs": [],
   "source": [
    "#extract job information of 10 job listings\n",
    "job_title = []\n",
    "job_location = []\n",
    "company_name = []\n",
    "experience_required = []\n",
    "\n",
    "title = driver.find_elements(By.XPATH,'//a[@class=\"title ellipsis\"]')\n",
    "for i in title[0:10] :\n",
    "    job = i.text\n",
    "    job_title.append(job)\n",
    " "
   ]
  },
  {
   "cell_type": "code",
   "execution_count": null,
   "id": "a1c7b4ef",
   "metadata": {},
   "outputs": [],
   "source": [
    "   \n",
    "location = driver.find_elements(By.XPATH,'//span[@class=\"ellipsis fleft locWdth\"]')\n",
    "for i in location[0:10] :\n",
    "    loc = i.text\n",
    "    job_location.append(loc) "
   ]
  },
  {
   "cell_type": "code",
   "execution_count": null,
   "id": "219fe52d",
   "metadata": {},
   "outputs": [],
   "source": [
    "company = driver.find_elements(By.XPATH,'//a[@class=\"subTitle ellipsis fleft\"]')\n",
    "for i in company[0:10] :\n",
    "    com = i.text\n",
    "    company_name.append(com)"
   ]
  },
  {
   "cell_type": "code",
   "execution_count": null,
   "id": "12d862f4",
   "metadata": {},
   "outputs": [],
   "source": [
    "    \n",
    "experience = driver.find_elements(By.XPATH,'//span[@class=\"ellipsis fleft expwdth\"]')\n",
    "for i in experience[0:10] :\n",
    "    exp = i.text\n",
    "    experience_required.append(exp)"
   ]
  },
  {
   "cell_type": "code",
   "execution_count": null,
   "id": "3256e8bc",
   "metadata": {},
   "outputs": [],
   "source": [
    "df = pd.DataFrame({'Title':job_title,'location':job_location,'company':company_name,'Experience':experience_required})\n",
    "\n",
    "df"
   ]
  },
  {
   "cell_type": "markdown",
   "id": "c0226d41",
   "metadata": {},
   "source": [
    "program to scrape data for data scientist job postion in bangalore "
   ]
  },
  {
   "cell_type": "code",
   "execution_count": null,
   "id": "d2f8ab1a",
   "metadata": {},
   "outputs": [],
   "source": [
    "url = \"https://www.naukri.com/\"\n",
    "\n",
    "# conecting to the Chrome\n",
    "driver = webdriver.Chrome()\n",
    "driver.get(url)\n",
    "search = driver.find_element(By.CLASS_NAME,'suggestor-input')\n",
    "search.send_keys('Data Scientist')\n",
    "loc = driver.find_element(By.XPATH,'/html/body/div[1]/div[7]/div/div/div[5]/div/div/div/div[1]/div/input')\n",
    "loc.send_keys('Bangalore')\n",
    "button = driver.find_element(By.CLASS_NAME,'qsbSubmit')\n",
    "button.click()"
   ]
  },
  {
   "cell_type": "code",
   "execution_count": null,
   "id": "66451b59",
   "metadata": {},
   "outputs": [],
   "source": [
    "#extract job information of 10 job listings\n",
    "job_title = []\n",
    "job_location = []\n",
    "company_name = []\n",
    "experience_required = []\n",
    "\n",
    "title = driver.find_elements(By.XPATH,'//a[@class=\"title ellipsis\"]')\n",
    "for i in title[0:10] :\n",
    "    job = i.text\n",
    "    job_title.append(job)"
   ]
  },
  {
   "cell_type": "code",
   "execution_count": null,
   "id": "b7ebefb8",
   "metadata": {},
   "outputs": [],
   "source": [
    "location = driver.find_elements(By.XPATH,'//span[@class=\"ellipsis fleft locWdth\"]')\n",
    "for i in location[0:10] :\n",
    "    loc = i.text\n",
    "    job_location.append(loc) "
   ]
  },
  {
   "cell_type": "code",
   "execution_count": null,
   "id": "1478f95b",
   "metadata": {},
   "outputs": [],
   "source": [
    "company = driver.find_elements(By.XPATH,'//a[@class=\"subTitle ellipsis fleft\"]')\n",
    "for i in company[0:10] :\n",
    "    com = i.text\n",
    "    company_name.append(com)"
   ]
  },
  {
   "cell_type": "code",
   "execution_count": null,
   "id": "bcd2decf",
   "metadata": {},
   "outputs": [],
   "source": [
    "experience = driver.find_elements(By.XPATH,'//span[@class=\"ellipsis fleft expwdth\"]')\n",
    "for i in experience[0:10] :\n",
    "    exp = i.text\n",
    "    experience_required.append(exp)"
   ]
  },
  {
   "cell_type": "code",
   "execution_count": null,
   "id": "e1c591a0",
   "metadata": {},
   "outputs": [],
   "source": [
    "df = pd.DataFrame({'Title':job_title,'location':job_location,'company':company_name,'Experience':experience_required})\n",
    "\n",
    "df"
   ]
  },
  {
   "cell_type": "markdown",
   "id": "d9f40298",
   "metadata": {},
   "source": [
    "program to scrape data of 100 sunglasses on flipkart\n"
   ]
  },
  {
   "cell_type": "code",
   "execution_count": null,
   "id": "9e141457",
   "metadata": {},
   "outputs": [],
   "source": [
    "url = \"https://www.amazon.in/\"\n",
    "# conecting to the Chrome\n",
    "driver = webdriver.Chrome()\n",
    "driver.get(url)\n",
    "search = driver.find_element(By.ID,\"twotabsearchtextbox\")\n",
    "search.send_keys('Laptop')\n",
    "button = driver.find_element(By.ID,\"nav-search-submit-button\")\n",
    "button.click()\n",
    "cpu = driver.find_element(By.XPATH,'/html/body/div[1]/div[2]/div[1]/div[2]/div/div[3]/span/div[1]/div/div/div[6]/ul[6]/li[10]/span/a/span')\n",
    "cpu.click()"
   ]
  },
  {
   "cell_type": "code",
   "execution_count": null,
   "id": "f5104fd1",
   "metadata": {},
   "outputs": [],
   "source": [
    "laptop_name = []\n",
    "lap = driver.find_elements(By.XPATH,'//a[@class=\"a-link-normal s-underline-text s-underline-link-text s-link-style a-text-normal\"]')\n",
    "for i in lap[0:10] :\n",
    "    laptop = i.text\n",
    "    laptop_name.append(laptop)"
   ]
  },
  {
   "cell_type": "code",
   "execution_count": null,
   "id": "ff61cd2f",
   "metadata": {},
   "outputs": [],
   "source": [
    "lap_ratings = []\n",
    "ratings = driver.find_elements(By.XPATH,'//span[@class=\"a-size-base\"]')\n",
    "for i in ratings[0:10]:\n",
    "    rat = i.text\n",
    "    lap_ratings.append(rat)"
   ]
  },
  {
   "cell_type": "code",
   "execution_count": null,
   "id": "ec4b6fb9",
   "metadata": {},
   "outputs": [],
   "source": [
    "laptop_price = []\n",
    "price = driver.find_elements(By.XPATH,'//span[@class=\"a-price-whole\"]')\n",
    "for i in price[0:10]:\n",
    "    lap_price=i.text\n",
    "    laptop_price.append(lap_price)\n"
   ]
  },
  {
   "cell_type": "code",
   "execution_count": null,
   "id": "bda0cbcc",
   "metadata": {},
   "outputs": [],
   "source": [
    "df = pd.DataFrame({'Title':laptop_name,'Ratings':lap_ratings,'Price':laptop_price})\n",
    "df"
   ]
  },
  {
   "cell_type": "markdown",
   "id": "05659a58",
   "metadata": {},
   "source": [
    "program to scrape data usin filters"
   ]
  },
  {
   "cell_type": "code",
   "execution_count": null,
   "id": "5a67d47c",
   "metadata": {},
   "outputs": [],
   "source": [
    "url = \"https://www.naukri.com/\"\n",
    "\n",
    "# conecting to the Chrome\n",
    "driver = webdriver.Chrome()\n",
    "driver.get(url)\n",
    "search = driver.find_element(By.CLASS_NAME,'suggestor-input')\n",
    "search.send_keys('Data scientist')\n",
    "#loc = driver.find_element(By.XPATH,'/html/body/div[1]/div[7]/div/div/div[5]/div/div/div/div[1]/div/input')\n",
    "#loc.send_keys('Bangalore')\n",
    "button = driver.find_element(By.CLASS_NAME,'qsbSubmit')\n",
    "button.click()"
   ]
  },
  {
   "cell_type": "code",
   "execution_count": null,
   "id": "70596139",
   "metadata": {},
   "outputs": [],
   "source": [
    "location_filter = driver.find_element(By.XPATH,\"/html/body/div[1]/div[4]/div/div/section[1]/div[2]/div[5]/div[2]/div[2]/label/p/span[1]\")\n",
    "location_filter.click()"
   ]
  },
  {
   "cell_type": "code",
   "execution_count": null,
   "id": "750ea513",
   "metadata": {},
   "outputs": [],
   "source": [
    "salary_filter = driver.find_element(By.XPATH,'/html/body/div[1]/div[4]/div/div/section[1]/div[2]/div[6]/div[2]/div[2]/label/p/span[1]')\n",
    "salary_filter.click()"
   ]
  },
  {
   "cell_type": "code",
   "execution_count": null,
   "id": "40058de1",
   "metadata": {},
   "outputs": [],
   "source": [
    "job_title = []\n",
    "title = driver.find_elements(By.XPATH,'//a[@class=\"title ellipsis\"]')\n",
    "for i in title[0:10] :\n",
    "    job = i.text\n",
    "    job_title.append(job)\n",
    " "
   ]
  },
  {
   "cell_type": "code",
   "execution_count": null,
   "id": "678e66f7",
   "metadata": {},
   "outputs": [],
   "source": [
    "company_name = []\n",
    "company = driver.find_elements(By.XPATH,'//a[@class=\"subTitle ellipsis fleft\"]')\n",
    "for i in company[0:10] :\n",
    "    com = i.text\n",
    "    company_name.append(com)"
   ]
  },
  {
   "cell_type": "code",
   "execution_count": null,
   "id": "8d317740",
   "metadata": {},
   "outputs": [],
   "source": [
    "job_location = []\n",
    "location = driver.find_elements(By.XPATH,'//li[@class=\"fleft br2 placeHolderLi location\"]')\n",
    "for i in location[0:10] :\n",
    "    loc = i.text\n",
    "    job_location.append(loc) "
   ]
  },
  {
   "cell_type": "code",
   "execution_count": null,
   "id": "b20a234a",
   "metadata": {},
   "outputs": [],
   "source": [
    "experience_required = []\n",
    "experience = driver.find_elements(By.XPATH,'//li[@class=\"fleft br2 placeHolderLi experience\"]')\n",
    "for i in experience[0:10] :\n",
    "    exp = i.text\n",
    "    experience_required.append(exp)"
   ]
  },
  {
   "cell_type": "code",
   "execution_count": null,
   "id": "50715834",
   "metadata": {},
   "outputs": [],
   "source": [
    "df = pd.DataFrame({'Title':job_title,'location':job_location,'company':company_name,'Experience':experience_required})\n",
    "\n",
    "df"
   ]
  },
  {
   "cell_type": "code",
   "execution_count": null,
   "id": "1d8c900d",
   "metadata": {},
   "outputs": [],
   "source": []
  }
 ],
 "metadata": {
  "kernelspec": {
   "display_name": "Python 3 (ipykernel)",
   "language": "python",
   "name": "python3"
  },
  "language_info": {
   "codemirror_mode": {
    "name": "ipython",
    "version": 3
   },
   "file_extension": ".py",
   "mimetype": "text/x-python",
   "name": "python",
   "nbconvert_exporter": "python",
   "pygments_lexer": "ipython3",
   "version": "3.9.13"
  }
 },
 "nbformat": 4,
 "nbformat_minor": 5
}
